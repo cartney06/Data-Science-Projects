{
 "cells": [
  {
   "cell_type": "markdown",
   "metadata": {},
   "source": [
    "# NYC Covid-19 Dashboard"
   ]
  },
  {
   "cell_type": "markdown",
   "metadata": {},
   "source": [
    "## NYC Covid Data"
   ]
  },
  {
   "cell_type": "markdown",
   "metadata": {},
   "source": [
    "For this task, we are going to scrape publically available covid-19 data in NYC."
   ]
  },
  {
   "cell_type": "code",
   "execution_count": 1,
   "metadata": {},
   "outputs": [],
   "source": [
    "import os\n",
    "import csv\n",
    "import numpy as np\n",
    "import pandas as pd\n",
    "import matplotlib.pyplot as plt\n",
    "from datetime import datetime\n",
    "import seaborn as sns # Using seaborn for visualization\n",
    "import plotly.express as px\n",
    "plt.rcParams['figure.figsize'] = [18, 6]"
   ]
  },
  {
   "cell_type": "code",
   "execution_count": 2,
   "metadata": {},
   "outputs": [],
   "source": [
    "import dash\n",
    "import dash_core_components as dcc\n",
    "import dash_html_components as html\n",
    "from dash.dependencies import Input, Output"
   ]
  },
  {
   "cell_type": "markdown",
   "metadata": {},
   "source": [
    "### COVID-19 Outcomes by Testing Cohorts: Cases, Hospitalizations, and Deaths\n",
    "This will be the dataset to develop the overall NYC timeseries for Covid positivity"
   ]
  },
  {
   "cell_type": "markdown",
   "metadata": {},
   "source": [
    "#### Import Data"
   ]
  },
  {
   "cell_type": "code",
   "execution_count": 3,
   "metadata": {},
   "outputs": [],
   "source": [
    "chd = pd.read_csv('https://data.cityofnewyork.us/resource/cwmx-mvra.csv')"
   ]
  },
  {
   "cell_type": "code",
   "execution_count": 4,
   "metadata": {},
   "outputs": [
    {
     "data": {
      "text/html": [
       "<div>\n",
       "<style scoped>\n",
       "    .dataframe tbody tr th:only-of-type {\n",
       "        vertical-align: middle;\n",
       "    }\n",
       "\n",
       "    .dataframe tbody tr th {\n",
       "        vertical-align: top;\n",
       "    }\n",
       "\n",
       "    .dataframe thead th {\n",
       "        text-align: right;\n",
       "    }\n",
       "</style>\n",
       "<table border=\"1\" class=\"dataframe\">\n",
       "  <thead>\n",
       "    <tr style=\"text-align: right;\">\n",
       "      <th></th>\n",
       "      <th>extract_date</th>\n",
       "      <th>specimen_date</th>\n",
       "      <th>number_tested</th>\n",
       "      <th>number_confirmed</th>\n",
       "      <th>number_hospitalized</th>\n",
       "      <th>number_deaths</th>\n",
       "    </tr>\n",
       "  </thead>\n",
       "  <tbody>\n",
       "    <tr>\n",
       "      <th>0</th>\n",
       "      <td>2020-08-28T00:00:00.000</td>\n",
       "      <td>2020-08-13T00:00:00.000</td>\n",
       "      <td>15344</td>\n",
       "      <td>208</td>\n",
       "      <td>17</td>\n",
       "      <td>1</td>\n",
       "    </tr>\n",
       "    <tr>\n",
       "      <th>1</th>\n",
       "      <td>2020-08-28T00:00:00.000</td>\n",
       "      <td>2020-04-09T00:00:00.000</td>\n",
       "      <td>9249</td>\n",
       "      <td>5064</td>\n",
       "      <td>1502</td>\n",
       "      <td>584</td>\n",
       "    </tr>\n",
       "    <tr>\n",
       "      <th>2</th>\n",
       "      <td>2020-08-28T00:00:00.000</td>\n",
       "      <td>2020-05-14T00:00:00.000</td>\n",
       "      <td>14232</td>\n",
       "      <td>1191</td>\n",
       "      <td>110</td>\n",
       "      <td>34</td>\n",
       "    </tr>\n",
       "    <tr>\n",
       "      <th>3</th>\n",
       "      <td>2020-08-28T00:00:00.000</td>\n",
       "      <td>2020-07-09T00:00:00.000</td>\n",
       "      <td>18181</td>\n",
       "      <td>351</td>\n",
       "      <td>34</td>\n",
       "      <td>5</td>\n",
       "    </tr>\n",
       "    <tr>\n",
       "      <th>4</th>\n",
       "      <td>2020-08-28T00:00:00.000</td>\n",
       "      <td>2020-08-06T00:00:00.000</td>\n",
       "      <td>15360</td>\n",
       "      <td>228</td>\n",
       "      <td>20</td>\n",
       "      <td>2</td>\n",
       "    </tr>\n",
       "  </tbody>\n",
       "</table>\n",
       "</div>"
      ],
      "text/plain": [
       "              extract_date            specimen_date  number_tested  \\\n",
       "0  2020-08-28T00:00:00.000  2020-08-13T00:00:00.000          15344   \n",
       "1  2020-08-28T00:00:00.000  2020-04-09T00:00:00.000           9249   \n",
       "2  2020-08-28T00:00:00.000  2020-05-14T00:00:00.000          14232   \n",
       "3  2020-08-28T00:00:00.000  2020-07-09T00:00:00.000          18181   \n",
       "4  2020-08-28T00:00:00.000  2020-08-06T00:00:00.000          15360   \n",
       "\n",
       "   number_confirmed  number_hospitalized  number_deaths  \n",
       "0               208                   17              1  \n",
       "1              5064                 1502            584  \n",
       "2              1191                  110             34  \n",
       "3               351                   34              5  \n",
       "4               228                   20              2  "
      ]
     },
     "execution_count": 4,
     "metadata": {},
     "output_type": "execute_result"
    }
   ],
   "source": [
    "chd.head()"
   ]
  },
  {
   "cell_type": "markdown",
   "metadata": {},
   "source": [
    "##### Data Structure and Schema\n",
    "\n",
    "| Column Name            | Description                                                       | Data Type      |\n",
    "| :-----------           | :-----------                                                      | :-----------   |\n",
    "| extract_date           | Date of extraction from live disease surveillance database        | Date & Time    |\n",
    "| specimen_date          | Date of specimen collection, equivalent to diagnosis date         | Date & Time    |\n",
    "| number_tested          | Count of NYC residents newly tested for SARS-CoV-2                | Number         |\n",
    "| number_confirmed       | Count of patients tested who were confirmed to be COVID-19 cases  | Number         |\n",
    "| number_hospitalized    | Count of confirmed COVID-19 cases among patients ever hospitalized| Number         |\n",
    "| number_deaths          | Count of confirmed COVID-19 cases among patients who died         | Number         |"
   ]
  },
  {
   "cell_type": "markdown",
   "metadata": {},
   "source": [
    "#### Data Cleanup"
   ]
  },
  {
   "cell_type": "markdown",
   "metadata": {},
   "source": [
    "Convert specimen_date to dt"
   ]
  },
  {
   "cell_type": "code",
   "execution_count": 5,
   "metadata": {},
   "outputs": [],
   "source": [
    "chd['specimen_date_dt'] = [pd.to_datetime(row).strftime('%Y-%m-%d') for row in chd['specimen_date']]\n",
    "chd['dt'] = [pd.to_datetime(row).strftime('%Y-%m-%d') for row in chd['extract_date']]"
   ]
  },
  {
   "cell_type": "markdown",
   "metadata": {},
   "source": [
    "Select latest extract date"
   ]
  },
  {
   "cell_type": "code",
   "execution_count": 6,
   "metadata": {},
   "outputs": [
    {
     "data": {
      "text/html": [
       "<div>\n",
       "<style scoped>\n",
       "    .dataframe tbody tr th:only-of-type {\n",
       "        vertical-align: middle;\n",
       "    }\n",
       "\n",
       "    .dataframe tbody tr th {\n",
       "        vertical-align: top;\n",
       "    }\n",
       "\n",
       "    .dataframe thead th {\n",
       "        text-align: right;\n",
       "    }\n",
       "</style>\n",
       "<table border=\"1\" class=\"dataframe\">\n",
       "  <thead>\n",
       "    <tr style=\"text-align: right;\">\n",
       "      <th></th>\n",
       "      <th>extract_date</th>\n",
       "      <th>specimen_date</th>\n",
       "      <th>number_tested</th>\n",
       "      <th>number_confirmed</th>\n",
       "      <th>number_hospitalized</th>\n",
       "      <th>number_deaths</th>\n",
       "      <th>specimen_date_dt</th>\n",
       "      <th>dt</th>\n",
       "    </tr>\n",
       "  </thead>\n",
       "  <tbody>\n",
       "    <tr>\n",
       "      <th>0</th>\n",
       "      <td>2020-08-28T00:00:00.000</td>\n",
       "      <td>2020-08-13T00:00:00.000</td>\n",
       "      <td>15344</td>\n",
       "      <td>208</td>\n",
       "      <td>17</td>\n",
       "      <td>1</td>\n",
       "      <td>2020-08-13</td>\n",
       "      <td>2020-08-28</td>\n",
       "    </tr>\n",
       "    <tr>\n",
       "      <th>1</th>\n",
       "      <td>2020-08-28T00:00:00.000</td>\n",
       "      <td>2020-04-09T00:00:00.000</td>\n",
       "      <td>9249</td>\n",
       "      <td>5064</td>\n",
       "      <td>1502</td>\n",
       "      <td>584</td>\n",
       "      <td>2020-04-09</td>\n",
       "      <td>2020-08-28</td>\n",
       "    </tr>\n",
       "    <tr>\n",
       "      <th>2</th>\n",
       "      <td>2020-08-28T00:00:00.000</td>\n",
       "      <td>2020-05-14T00:00:00.000</td>\n",
       "      <td>14232</td>\n",
       "      <td>1191</td>\n",
       "      <td>110</td>\n",
       "      <td>34</td>\n",
       "      <td>2020-05-14</td>\n",
       "      <td>2020-08-28</td>\n",
       "    </tr>\n",
       "    <tr>\n",
       "      <th>3</th>\n",
       "      <td>2020-08-28T00:00:00.000</td>\n",
       "      <td>2020-07-09T00:00:00.000</td>\n",
       "      <td>18181</td>\n",
       "      <td>351</td>\n",
       "      <td>34</td>\n",
       "      <td>5</td>\n",
       "      <td>2020-07-09</td>\n",
       "      <td>2020-08-28</td>\n",
       "    </tr>\n",
       "    <tr>\n",
       "      <th>4</th>\n",
       "      <td>2020-08-28T00:00:00.000</td>\n",
       "      <td>2020-08-06T00:00:00.000</td>\n",
       "      <td>15360</td>\n",
       "      <td>228</td>\n",
       "      <td>20</td>\n",
       "      <td>2</td>\n",
       "      <td>2020-08-06</td>\n",
       "      <td>2020-08-28</td>\n",
       "    </tr>\n",
       "  </tbody>\n",
       "</table>\n",
       "</div>"
      ],
      "text/plain": [
       "              extract_date            specimen_date  number_tested  \\\n",
       "0  2020-08-28T00:00:00.000  2020-08-13T00:00:00.000          15344   \n",
       "1  2020-08-28T00:00:00.000  2020-04-09T00:00:00.000           9249   \n",
       "2  2020-08-28T00:00:00.000  2020-05-14T00:00:00.000          14232   \n",
       "3  2020-08-28T00:00:00.000  2020-07-09T00:00:00.000          18181   \n",
       "4  2020-08-28T00:00:00.000  2020-08-06T00:00:00.000          15360   \n",
       "\n",
       "   number_confirmed  number_hospitalized  number_deaths specimen_date_dt  \\\n",
       "0               208                   17              1       2020-08-13   \n",
       "1              5064                 1502            584       2020-04-09   \n",
       "2              1191                  110             34       2020-05-14   \n",
       "3               351                   34              5       2020-07-09   \n",
       "4               228                   20              2       2020-08-06   \n",
       "\n",
       "           dt  \n",
       "0  2020-08-28  \n",
       "1  2020-08-28  \n",
       "2  2020-08-28  \n",
       "3  2020-08-28  \n",
       "4  2020-08-28  "
      ]
     },
     "execution_count": 6,
     "metadata": {},
     "output_type": "execute_result"
    }
   ],
   "source": [
    "chd.head()"
   ]
  },
  {
   "cell_type": "markdown",
   "metadata": {},
   "source": [
    "##### Add NYC data label to a new column called Boro"
   ]
  },
  {
   "cell_type": "code",
   "execution_count": 7,
   "metadata": {},
   "outputs": [],
   "source": [
    "chd['boro'] = 'NYC'"
   ]
  },
  {
   "cell_type": "code",
   "execution_count": 8,
   "metadata": {},
   "outputs": [],
   "source": [
    "# Get max dt of data load\n",
    "chd = chd[(chd['dt'] == chd['dt'].max())]"
   ]
  },
  {
   "cell_type": "markdown",
   "metadata": {},
   "source": [
    "##### Sort dataframe by specimen_date"
   ]
  },
  {
   "cell_type": "code",
   "execution_count": 9,
   "metadata": {},
   "outputs": [],
   "source": [
    "chd.sort_values(by=['specimen_date'], inplace=True)\n",
    "chd.reset_index(inplace=True, drop=True)"
   ]
  },
  {
   "cell_type": "markdown",
   "metadata": {},
   "source": [
    "##### Add % Tested Positive"
   ]
  },
  {
   "cell_type": "code",
   "execution_count": 10,
   "metadata": {},
   "outputs": [],
   "source": [
    "chd['pct_tested_positive'] = chd['number_confirmed']/chd['number_tested']"
   ]
  },
  {
   "cell_type": "markdown",
   "metadata": {},
   "source": [
    "##### Add Running Total of Tests, Confirmed Tests & Deaths"
   ]
  },
  {
   "cell_type": "code",
   "execution_count": 11,
   "metadata": {},
   "outputs": [],
   "source": [
    "chd['cumsum_number_tested'] = chd['number_tested'].cumsum()"
   ]
  },
  {
   "cell_type": "code",
   "execution_count": 12,
   "metadata": {},
   "outputs": [],
   "source": [
    "chd['cumsum_number_confirmed'] = chd['number_confirmed'].cumsum()"
   ]
  },
  {
   "cell_type": "code",
   "execution_count": 13,
   "metadata": {},
   "outputs": [],
   "source": [
    "chd['cumsum_number_deaths'] = chd['number_deaths'].cumsum()"
   ]
  },
  {
   "cell_type": "code",
   "execution_count": 14,
   "metadata": {},
   "outputs": [],
   "source": [
    "chd['cumsum_number_hospitalized'] = chd['number_hospitalized'].cumsum()"
   ]
  },
  {
   "cell_type": "markdown",
   "metadata": {},
   "source": [
    "##### Add Percentage Total of Tests Confirmed Tests Cumulative"
   ]
  },
  {
   "cell_type": "code",
   "execution_count": 15,
   "metadata": {},
   "outputs": [],
   "source": [
    "chd['cumsum_pct_tested_positive'] = chd['cumsum_number_confirmed']/chd['cumsum_number_tested']"
   ]
  },
  {
   "cell_type": "markdown",
   "metadata": {},
   "source": [
    "##### Add Rolling 7-Day Moving Averages of Positve Test Percentage"
   ]
  },
  {
   "cell_type": "code",
   "execution_count": 16,
   "metadata": {},
   "outputs": [],
   "source": [
    "chd['7-day_rolling_avg_pct_tested_positive'] = chd['number_confirmed'].rolling(7).sum()/chd['number_tested'].rolling(7).sum()"
   ]
  },
  {
   "cell_type": "code",
   "execution_count": 77,
   "metadata": {},
   "outputs": [],
   "source": [
    "chd['7-day_rolling_avg_number_tested'] = chd['number_tested'].rolling(7).sum()/7\n",
    "chd['7-day_rolling_avg_number_confirmed'] = chd['number_confirmed'].rolling(7).sum()/7\n",
    "chd['7-day_rolling_avg_number_hospitalized'] = chd['number_hospitalized'].rolling(7).sum()/7\n",
    "chd['7-day_rolling_avg_number_deaths'] = chd['number_deaths'].rolling(7).sum()/7"
   ]
  },
  {
   "cell_type": "code",
   "execution_count": 79,
   "metadata": {},
   "outputs": [
    {
     "data": {
      "text/html": [
       "<div>\n",
       "<style scoped>\n",
       "    .dataframe tbody tr th:only-of-type {\n",
       "        vertical-align: middle;\n",
       "    }\n",
       "\n",
       "    .dataframe tbody tr th {\n",
       "        vertical-align: top;\n",
       "    }\n",
       "\n",
       "    .dataframe thead th {\n",
       "        text-align: right;\n",
       "    }\n",
       "</style>\n",
       "<table border=\"1\" class=\"dataframe\">\n",
       "  <thead>\n",
       "    <tr style=\"text-align: right;\">\n",
       "      <th></th>\n",
       "      <th>extract_date</th>\n",
       "      <th>specimen_date</th>\n",
       "      <th>number_tested</th>\n",
       "      <th>number_confirmed</th>\n",
       "      <th>number_hospitalized</th>\n",
       "      <th>number_deaths</th>\n",
       "      <th>specimen_date_dt</th>\n",
       "      <th>dt</th>\n",
       "      <th>boro</th>\n",
       "      <th>pct_tested_positive</th>\n",
       "      <th>cumsum_number_tested</th>\n",
       "      <th>cumsum_number_confirmed</th>\n",
       "      <th>cumsum_number_deaths</th>\n",
       "      <th>cumsum_number_hospitalized</th>\n",
       "      <th>cumsum_pct_tested_positive</th>\n",
       "      <th>7-day_rolling_avg_pct_tested_positive</th>\n",
       "      <th>7-day_rolling_avg_number_tested</th>\n",
       "      <th>7-day_rolling_avg_number_confirmed</th>\n",
       "      <th>7-day_rolling_avg_number_hospitalized</th>\n",
       "      <th>7-day_rolling_avg_number_deaths</th>\n",
       "    </tr>\n",
       "  </thead>\n",
       "  <tbody>\n",
       "    <tr>\n",
       "      <th>176</th>\n",
       "      <td>2020-08-28T00:00:00.000</td>\n",
       "      <td>2020-08-18T00:00:00.000</td>\n",
       "      <td>18852</td>\n",
       "      <td>205</td>\n",
       "      <td>15</td>\n",
       "      <td>0</td>\n",
       "      <td>2020-08-18</td>\n",
       "      <td>2020-08-28</td>\n",
       "      <td>NYC</td>\n",
       "      <td>0.010874</td>\n",
       "      <td>1911133</td>\n",
       "      <td>228199</td>\n",
       "      <td>19492</td>\n",
       "      <td>57037</td>\n",
       "      <td>0.119405</td>\n",
       "      <td>0.013266</td>\n",
       "      <td>14386.571429</td>\n",
       "      <td>190.857143</td>\n",
       "      <td>16.857143</td>\n",
       "      <td>0.857143</td>\n",
       "    </tr>\n",
       "    <tr>\n",
       "      <th>177</th>\n",
       "      <td>2020-08-28T00:00:00.000</td>\n",
       "      <td>2020-08-19T00:00:00.000</td>\n",
       "      <td>16919</td>\n",
       "      <td>195</td>\n",
       "      <td>18</td>\n",
       "      <td>0</td>\n",
       "      <td>2020-08-19</td>\n",
       "      <td>2020-08-28</td>\n",
       "      <td>NYC</td>\n",
       "      <td>0.011526</td>\n",
       "      <td>1928052</td>\n",
       "      <td>228394</td>\n",
       "      <td>19492</td>\n",
       "      <td>57055</td>\n",
       "      <td>0.118458</td>\n",
       "      <td>0.012620</td>\n",
       "      <td>14546.571429</td>\n",
       "      <td>183.571429</td>\n",
       "      <td>17.142857</td>\n",
       "      <td>0.571429</td>\n",
       "    </tr>\n",
       "    <tr>\n",
       "      <th>178</th>\n",
       "      <td>2020-08-28T00:00:00.000</td>\n",
       "      <td>2020-08-20T00:00:00.000</td>\n",
       "      <td>16465</td>\n",
       "      <td>156</td>\n",
       "      <td>14</td>\n",
       "      <td>0</td>\n",
       "      <td>2020-08-20</td>\n",
       "      <td>2020-08-28</td>\n",
       "      <td>NYC</td>\n",
       "      <td>0.009475</td>\n",
       "      <td>1944517</td>\n",
       "      <td>228550</td>\n",
       "      <td>19492</td>\n",
       "      <td>57069</td>\n",
       "      <td>0.117536</td>\n",
       "      <td>0.011977</td>\n",
       "      <td>14706.714286</td>\n",
       "      <td>176.142857</td>\n",
       "      <td>16.714286</td>\n",
       "      <td>0.428571</td>\n",
       "    </tr>\n",
       "    <tr>\n",
       "      <th>179</th>\n",
       "      <td>2020-08-28T00:00:00.000</td>\n",
       "      <td>2020-08-21T00:00:00.000</td>\n",
       "      <td>16235</td>\n",
       "      <td>178</td>\n",
       "      <td>17</td>\n",
       "      <td>1</td>\n",
       "      <td>2020-08-21</td>\n",
       "      <td>2020-08-28</td>\n",
       "      <td>NYC</td>\n",
       "      <td>0.010964</td>\n",
       "      <td>1960752</td>\n",
       "      <td>228728</td>\n",
       "      <td>19493</td>\n",
       "      <td>57086</td>\n",
       "      <td>0.116653</td>\n",
       "      <td>0.011571</td>\n",
       "      <td>14766.142857</td>\n",
       "      <td>170.857143</td>\n",
       "      <td>15.428571</td>\n",
       "      <td>0.428571</td>\n",
       "    </tr>\n",
       "    <tr>\n",
       "      <th>180</th>\n",
       "      <td>2020-08-28T00:00:00.000</td>\n",
       "      <td>2020-08-22T00:00:00.000</td>\n",
       "      <td>7194</td>\n",
       "      <td>83</td>\n",
       "      <td>10</td>\n",
       "      <td>0</td>\n",
       "      <td>2020-08-22</td>\n",
       "      <td>2020-08-28</td>\n",
       "      <td>NYC</td>\n",
       "      <td>0.011537</td>\n",
       "      <td>1967946</td>\n",
       "      <td>228811</td>\n",
       "      <td>19493</td>\n",
       "      <td>57096</td>\n",
       "      <td>0.116269</td>\n",
       "      <td>0.011401</td>\n",
       "      <td>14572.857143</td>\n",
       "      <td>166.142857</td>\n",
       "      <td>14.428571</td>\n",
       "      <td>0.142857</td>\n",
       "    </tr>\n",
       "    <tr>\n",
       "      <th>181</th>\n",
       "      <td>2020-08-28T00:00:00.000</td>\n",
       "      <td>2020-08-23T00:00:00.000</td>\n",
       "      <td>5924</td>\n",
       "      <td>78</td>\n",
       "      <td>3</td>\n",
       "      <td>0</td>\n",
       "      <td>2020-08-23</td>\n",
       "      <td>2020-08-28</td>\n",
       "      <td>NYC</td>\n",
       "      <td>0.013167</td>\n",
       "      <td>1973870</td>\n",
       "      <td>228889</td>\n",
       "      <td>19493</td>\n",
       "      <td>57099</td>\n",
       "      <td>0.115960</td>\n",
       "      <td>0.011222</td>\n",
       "      <td>14473.714286</td>\n",
       "      <td>162.428571</td>\n",
       "      <td>13.285714</td>\n",
       "      <td>0.142857</td>\n",
       "    </tr>\n",
       "    <tr>\n",
       "      <th>182</th>\n",
       "      <td>2020-08-28T00:00:00.000</td>\n",
       "      <td>2020-08-24T00:00:00.000</td>\n",
       "      <td>13747</td>\n",
       "      <td>117</td>\n",
       "      <td>5</td>\n",
       "      <td>0</td>\n",
       "      <td>2020-08-24</td>\n",
       "      <td>2020-08-28</td>\n",
       "      <td>NYC</td>\n",
       "      <td>0.008511</td>\n",
       "      <td>1987617</td>\n",
       "      <td>229006</td>\n",
       "      <td>19493</td>\n",
       "      <td>57104</td>\n",
       "      <td>0.115216</td>\n",
       "      <td>0.010615</td>\n",
       "      <td>13619.428571</td>\n",
       "      <td>144.571429</td>\n",
       "      <td>11.714286</td>\n",
       "      <td>0.142857</td>\n",
       "    </tr>\n",
       "    <tr>\n",
       "      <th>183</th>\n",
       "      <td>2020-08-28T00:00:00.000</td>\n",
       "      <td>2020-08-25T00:00:00.000</td>\n",
       "      <td>7408</td>\n",
       "      <td>72</td>\n",
       "      <td>14</td>\n",
       "      <td>1</td>\n",
       "      <td>2020-08-25</td>\n",
       "      <td>2020-08-28</td>\n",
       "      <td>NYC</td>\n",
       "      <td>0.009719</td>\n",
       "      <td>1995025</td>\n",
       "      <td>229078</td>\n",
       "      <td>19494</td>\n",
       "      <td>57118</td>\n",
       "      <td>0.114825</td>\n",
       "      <td>0.010478</td>\n",
       "      <td>11984.571429</td>\n",
       "      <td>125.571429</td>\n",
       "      <td>11.571429</td>\n",
       "      <td>0.285714</td>\n",
       "    </tr>\n",
       "    <tr>\n",
       "      <th>184</th>\n",
       "      <td>2020-08-28T00:00:00.000</td>\n",
       "      <td>2020-08-26T00:00:00.000</td>\n",
       "      <td>2728</td>\n",
       "      <td>51</td>\n",
       "      <td>0</td>\n",
       "      <td>0</td>\n",
       "      <td>2020-08-26</td>\n",
       "      <td>2020-08-28</td>\n",
       "      <td>NYC</td>\n",
       "      <td>0.018695</td>\n",
       "      <td>1997753</td>\n",
       "      <td>229129</td>\n",
       "      <td>19494</td>\n",
       "      <td>57118</td>\n",
       "      <td>0.114693</td>\n",
       "      <td>0.010545</td>\n",
       "      <td>9957.285714</td>\n",
       "      <td>105.000000</td>\n",
       "      <td>9.000000</td>\n",
       "      <td>0.285714</td>\n",
       "    </tr>\n",
       "    <tr>\n",
       "      <th>185</th>\n",
       "      <td>2020-08-28T00:00:00.000</td>\n",
       "      <td>2020-08-27T00:00:00.000</td>\n",
       "      <td>93</td>\n",
       "      <td>0</td>\n",
       "      <td>0</td>\n",
       "      <td>0</td>\n",
       "      <td>2020-08-27</td>\n",
       "      <td>2020-08-28</td>\n",
       "      <td>NYC</td>\n",
       "      <td>0.000000</td>\n",
       "      <td>1997846</td>\n",
       "      <td>229129</td>\n",
       "      <td>19494</td>\n",
       "      <td>57118</td>\n",
       "      <td>0.114688</td>\n",
       "      <td>0.010857</td>\n",
       "      <td>7618.428571</td>\n",
       "      <td>82.714286</td>\n",
       "      <td>7.000000</td>\n",
       "      <td>0.285714</td>\n",
       "    </tr>\n",
       "  </tbody>\n",
       "</table>\n",
       "</div>"
      ],
      "text/plain": [
       "                extract_date            specimen_date  number_tested  \\\n",
       "176  2020-08-28T00:00:00.000  2020-08-18T00:00:00.000          18852   \n",
       "177  2020-08-28T00:00:00.000  2020-08-19T00:00:00.000          16919   \n",
       "178  2020-08-28T00:00:00.000  2020-08-20T00:00:00.000          16465   \n",
       "179  2020-08-28T00:00:00.000  2020-08-21T00:00:00.000          16235   \n",
       "180  2020-08-28T00:00:00.000  2020-08-22T00:00:00.000           7194   \n",
       "181  2020-08-28T00:00:00.000  2020-08-23T00:00:00.000           5924   \n",
       "182  2020-08-28T00:00:00.000  2020-08-24T00:00:00.000          13747   \n",
       "183  2020-08-28T00:00:00.000  2020-08-25T00:00:00.000           7408   \n",
       "184  2020-08-28T00:00:00.000  2020-08-26T00:00:00.000           2728   \n",
       "185  2020-08-28T00:00:00.000  2020-08-27T00:00:00.000             93   \n",
       "\n",
       "     number_confirmed  number_hospitalized  number_deaths specimen_date_dt  \\\n",
       "176               205                   15              0       2020-08-18   \n",
       "177               195                   18              0       2020-08-19   \n",
       "178               156                   14              0       2020-08-20   \n",
       "179               178                   17              1       2020-08-21   \n",
       "180                83                   10              0       2020-08-22   \n",
       "181                78                    3              0       2020-08-23   \n",
       "182               117                    5              0       2020-08-24   \n",
       "183                72                   14              1       2020-08-25   \n",
       "184                51                    0              0       2020-08-26   \n",
       "185                 0                    0              0       2020-08-27   \n",
       "\n",
       "             dt boro  pct_tested_positive  cumsum_number_tested  \\\n",
       "176  2020-08-28  NYC             0.010874               1911133   \n",
       "177  2020-08-28  NYC             0.011526               1928052   \n",
       "178  2020-08-28  NYC             0.009475               1944517   \n",
       "179  2020-08-28  NYC             0.010964               1960752   \n",
       "180  2020-08-28  NYC             0.011537               1967946   \n",
       "181  2020-08-28  NYC             0.013167               1973870   \n",
       "182  2020-08-28  NYC             0.008511               1987617   \n",
       "183  2020-08-28  NYC             0.009719               1995025   \n",
       "184  2020-08-28  NYC             0.018695               1997753   \n",
       "185  2020-08-28  NYC             0.000000               1997846   \n",
       "\n",
       "     cumsum_number_confirmed  cumsum_number_deaths  \\\n",
       "176                   228199                 19492   \n",
       "177                   228394                 19492   \n",
       "178                   228550                 19492   \n",
       "179                   228728                 19493   \n",
       "180                   228811                 19493   \n",
       "181                   228889                 19493   \n",
       "182                   229006                 19493   \n",
       "183                   229078                 19494   \n",
       "184                   229129                 19494   \n",
       "185                   229129                 19494   \n",
       "\n",
       "     cumsum_number_hospitalized  cumsum_pct_tested_positive  \\\n",
       "176                       57037                    0.119405   \n",
       "177                       57055                    0.118458   \n",
       "178                       57069                    0.117536   \n",
       "179                       57086                    0.116653   \n",
       "180                       57096                    0.116269   \n",
       "181                       57099                    0.115960   \n",
       "182                       57104                    0.115216   \n",
       "183                       57118                    0.114825   \n",
       "184                       57118                    0.114693   \n",
       "185                       57118                    0.114688   \n",
       "\n",
       "     7-day_rolling_avg_pct_tested_positive  7-day_rolling_avg_number_tested  \\\n",
       "176                               0.013266                     14386.571429   \n",
       "177                               0.012620                     14546.571429   \n",
       "178                               0.011977                     14706.714286   \n",
       "179                               0.011571                     14766.142857   \n",
       "180                               0.011401                     14572.857143   \n",
       "181                               0.011222                     14473.714286   \n",
       "182                               0.010615                     13619.428571   \n",
       "183                               0.010478                     11984.571429   \n",
       "184                               0.010545                      9957.285714   \n",
       "185                               0.010857                      7618.428571   \n",
       "\n",
       "     7-day_rolling_avg_number_confirmed  \\\n",
       "176                          190.857143   \n",
       "177                          183.571429   \n",
       "178                          176.142857   \n",
       "179                          170.857143   \n",
       "180                          166.142857   \n",
       "181                          162.428571   \n",
       "182                          144.571429   \n",
       "183                          125.571429   \n",
       "184                          105.000000   \n",
       "185                           82.714286   \n",
       "\n",
       "     7-day_rolling_avg_number_hospitalized  7-day_rolling_avg_number_deaths  \n",
       "176                              16.857143                         0.857143  \n",
       "177                              17.142857                         0.571429  \n",
       "178                              16.714286                         0.428571  \n",
       "179                              15.428571                         0.428571  \n",
       "180                              14.428571                         0.142857  \n",
       "181                              13.285714                         0.142857  \n",
       "182                              11.714286                         0.142857  \n",
       "183                              11.571429                         0.285714  \n",
       "184                               9.000000                         0.285714  \n",
       "185                               7.000000                         0.285714  "
      ]
     },
     "execution_count": 79,
     "metadata": {},
     "output_type": "execute_result"
    }
   ],
   "source": [
    "chd.tail(10)"
   ]
  },
  {
   "cell_type": "code",
   "execution_count": 18,
   "metadata": {},
   "outputs": [
    {
     "data": {
      "text/plain": [
       "'The boro chosen by user was: NYC'"
      ]
     },
     "execution_count": 18,
     "metadata": {},
     "output_type": "execute_result"
    }
   ],
   "source": [
    "boro = 'NYC'\n",
    "container = \"The boro chosen by user was: \" + (boro)\n",
    "container"
   ]
  },
  {
   "cell_type": "code",
   "execution_count": 21,
   "metadata": {},
   "outputs": [
    {
     "data": {
      "text/plain": [
       "'Total COVID-19 NYC Cases by Day'"
      ]
     },
     "execution_count": 21,
     "metadata": {},
     "output_type": "execute_result"
    }
   ],
   "source": [
    "\"Total COVID-19 \"+ boro + \" Cases by Day\""
   ]
  },
  {
   "cell_type": "code",
   "execution_count": 22,
   "metadata": {},
   "outputs": [],
   "source": [
    "hosp = {'number_hospitalized': 'Hospitalizatons'}"
   ]
  },
  {
   "cell_type": "code",
   "execution_count": 36,
   "metadata": {},
   "outputs": [
    {
     "data": {
      "text/plain": [
       "'Hospitalizatons'"
      ]
     },
     "execution_count": 36,
     "metadata": {},
     "output_type": "execute_result"
    }
   ],
   "source": [
    "hosp['number_hospitalized']"
   ]
  },
  {
   "cell_type": "code",
   "execution_count": 37,
   "metadata": {},
   "outputs": [
    {
     "data": {
      "text/plain": [
       "'2020-08-28'"
      ]
     },
     "execution_count": 37,
     "metadata": {},
     "output_type": "execute_result"
    }
   ],
   "source": [
    "chd['dt'].max()"
   ]
  },
  {
   "cell_type": "code",
   "execution_count": 38,
   "metadata": {},
   "outputs": [
    {
     "data": {
      "text/plain": [
       "229129"
      ]
     },
     "execution_count": 38,
     "metadata": {},
     "output_type": "execute_result"
    }
   ],
   "source": [
    "chd['number_confirmed'].sum()"
   ]
  },
  {
   "cell_type": "code",
   "execution_count": 44,
   "metadata": {},
   "outputs": [],
   "source": [
    "total_cases = format(chd['number_confirmed'].sum(), ',')\n",
    "total_deaths = chd['number_deaths'].sum()\n",
    "total_hospitalizations = chd['number_hospitalized'].sum()\n",
    "total_tests = chd['number_tested'].sum()"
   ]
  },
  {
   "cell_type": "code",
   "execution_count": 46,
   "metadata": {},
   "outputs": [],
   "source": [
    "topline_values = ['total_cases', 'total_tests', 'total_hospitalizations', 'total_deaths']\n",
    "topline_data = (total_cases, total_deaths, total_hospitalizations, total_tests)"
   ]
  },
  {
   "cell_type": "code",
   "execution_count": 64,
   "metadata": {},
   "outputs": [],
   "source": [
    "df = pd.DataFrame(data=topline_data).T\n",
    "#df.columns = topline_values"
   ]
  },
  {
   "cell_type": "code",
   "execution_count": 65,
   "metadata": {},
   "outputs": [
    {
     "data": {
      "text/html": [
       "<div>\n",
       "<style scoped>\n",
       "    .dataframe tbody tr th:only-of-type {\n",
       "        vertical-align: middle;\n",
       "    }\n",
       "\n",
       "    .dataframe tbody tr th {\n",
       "        vertical-align: top;\n",
       "    }\n",
       "\n",
       "    .dataframe thead th {\n",
       "        text-align: right;\n",
       "    }\n",
       "</style>\n",
       "<table border=\"1\" class=\"dataframe\">\n",
       "  <thead>\n",
       "    <tr style=\"text-align: right;\">\n",
       "      <th></th>\n",
       "      <th>0</th>\n",
       "      <th>1</th>\n",
       "      <th>2</th>\n",
       "      <th>3</th>\n",
       "    </tr>\n",
       "  </thead>\n",
       "  <tbody>\n",
       "    <tr>\n",
       "      <th>0</th>\n",
       "      <td>229,129</td>\n",
       "      <td>19494</td>\n",
       "      <td>57118</td>\n",
       "      <td>1997846</td>\n",
       "    </tr>\n",
       "  </tbody>\n",
       "</table>\n",
       "</div>"
      ],
      "text/plain": [
       "         0      1      2        3\n",
       "0  229,129  19494  57118  1997846"
      ]
     },
     "execution_count": 65,
     "metadata": {},
     "output_type": "execute_result"
    }
   ],
   "source": [
    "df.head()"
   ]
  },
  {
   "cell_type": "code",
   "execution_count": 63,
   "metadata": {},
   "outputs": [
    {
     "data": {
      "text/plain": [
       "19494"
      ]
     },
     "execution_count": 63,
     "metadata": {},
     "output_type": "execute_result"
    }
   ],
   "source": [
    "chd['number_deaths'].sum()"
   ]
  },
  {
   "cell_type": "code",
   "execution_count": null,
   "metadata": {},
   "outputs": [],
   "source": []
  },
  {
   "cell_type": "code",
   "execution_count": null,
   "metadata": {},
   "outputs": [],
   "source": []
  },
  {
   "cell_type": "code",
   "execution_count": null,
   "metadata": {},
   "outputs": [],
   "source": []
  },
  {
   "cell_type": "markdown",
   "metadata": {},
   "source": [
    "##### Export Data to Local Folder"
   ]
  },
  {
   "cell_type": "code",
   "execution_count": 17,
   "metadata": {},
   "outputs": [],
   "source": [
    "chd.to_csv('data_output/chd.csv', index=False)"
   ]
  },
  {
   "cell_type": "markdown",
   "metadata": {},
   "source": [
    "#### Build Dashboard"
   ]
  },
  {
   "cell_type": "markdown",
   "metadata": {},
   "source": [
    "##### App Layout"
   ]
  },
  {
   "cell_type": "code",
   "execution_count": 33,
   "metadata": {},
   "outputs": [
    {
     "name": "stdout",
     "output_type": "stream",
     "text": [
      "Dash is running on http://127.0.0.1:8050/\n",
      "\n",
      "Dash is running on http://127.0.0.1:8050/\n",
      "\n",
      "Dash is running on http://127.0.0.1:8050/\n",
      "\n",
      "Dash is running on http://127.0.0.1:8050/\n",
      "\n",
      " * Serving Flask app \"__main__\" (lazy loading)\n",
      " * Environment: production\n",
      "\u001b[31m   WARNING: This is a development server. Do not use it in a production deployment.\u001b[0m\n",
      "\u001b[2m   Use a production WSGI server instead.\u001b[0m\n",
      " * Debug mode: on\n"
     ]
    },
    {
     "ename": "SystemExit",
     "evalue": "1",
     "output_type": "error",
     "traceback": [
      "An exception has occurred, use %tb to see the full traceback.\n",
      "\u001b[0;31mSystemExit\u001b[0m\u001b[0;31m:\u001b[0m 1\n"
     ]
    },
    {
     "name": "stderr",
     "output_type": "stream",
     "text": [
      "/Users/cartneythompson/opt/anaconda3/lib/python3.8/site-packages/IPython/core/interactiveshell.py:3351: UserWarning: To exit: use 'exit', 'quit', or Ctrl-D.\n",
      "  warn(\"To exit: use 'exit', 'quit', or Ctrl-D.\", stacklevel=1)\n"
     ]
    }
   ],
   "source": [
    "app = dash.Dash(__name__)\n",
    "app.layout = html.Div([\n",
    "    \n",
    "    html.H1(\"NYC COVID-19 Overall Confirmed Cases\", style={\"text-align\":\"left\"}),\n",
    "    \n",
    "    dcc.Dropdown(id=\"select_boro\",\n",
    "                options=[\n",
    "                    {\"label\": \"NYC\", \"value\":'NYC'},\n",
    "                    {\"label\": \"Brooklyn\", \"value\":'Brooklyn'},\n",
    "                    {\"label\": \"Bronx\", \"value\":'Bronx'},\n",
    "                    {\"label\": \"Manhattan\", \"value\":'Manhattan'},\n",
    "                    {\"label\": \"Queens\", \"value\":'Queens'},\n",
    "                    {\"label\": \"Staten Island\", \"value\":'SI'}],\n",
    "                 value= \"NYC\",\n",
    "                 #multi-False,\n",
    "                 style={\"width\":\"40%\"}\n",
    "                ),\n",
    "    html.Div(id=\"output_container\", children=[]),\n",
    "    html.Br(),\n",
    "    dcc.Graph(id=\"covid_19_chart\", figure={})\n",
    "    \n",
    "    \n",
    "])\n",
    "\n",
    "if __name__ == '__main__':\n",
    "    app.run_server(debug=True)"
   ]
  },
  {
   "cell_type": "code",
   "execution_count": 34,
   "metadata": {},
   "outputs": [],
   "source": []
  },
  {
   "cell_type": "code",
   "execution_count": null,
   "metadata": {},
   "outputs": [],
   "source": []
  },
  {
   "cell_type": "code",
   "execution_count": null,
   "metadata": {},
   "outputs": [],
   "source": []
  },
  {
   "cell_type": "code",
   "execution_count": null,
   "metadata": {},
   "outputs": [],
   "source": []
  },
  {
   "cell_type": "code",
   "execution_count": null,
   "metadata": {},
   "outputs": [],
   "source": []
  },
  {
   "cell_type": "code",
   "execution_count": null,
   "metadata": {},
   "outputs": [],
   "source": []
  },
  {
   "cell_type": "code",
   "execution_count": null,
   "metadata": {},
   "outputs": [],
   "source": []
  },
  {
   "cell_type": "markdown",
   "metadata": {},
   "source": [
    "---"
   ]
  },
  {
   "cell_type": "markdown",
   "metadata": {},
   "source": [
    "### COVID-19 Outcomes by Testing Cohorts: Cases, Hospitalizations, and Deaths by Boro and Cohort"
   ]
  },
  {
   "cell_type": "markdown",
   "metadata": {},
   "source": [
    "#### Import Data"
   ]
  },
  {
   "cell_type": "code",
   "execution_count": 18,
   "metadata": {},
   "outputs": [],
   "source": [
    "chd_boro = pd.read_csv('https://raw.githubusercontent.com/nychealth/coronavirus-data/master/boro/boroughs-case-hosp-death.csv')"
   ]
  },
  {
   "cell_type": "code",
   "execution_count": 21,
   "metadata": {},
   "outputs": [
    {
     "data": {
      "text/html": [
       "<div>\n",
       "<style scoped>\n",
       "    .dataframe tbody tr th:only-of-type {\n",
       "        vertical-align: middle;\n",
       "    }\n",
       "\n",
       "    .dataframe tbody tr th {\n",
       "        vertical-align: top;\n",
       "    }\n",
       "\n",
       "    .dataframe thead th {\n",
       "        text-align: right;\n",
       "    }\n",
       "</style>\n",
       "<table border=\"1\" class=\"dataframe\">\n",
       "  <thead>\n",
       "    <tr style=\"text-align: right;\">\n",
       "      <th></th>\n",
       "      <th>DATE_OF_INTEREST</th>\n",
       "      <th>BK_CASE_COUNT</th>\n",
       "      <th>BK_HOSPITALIZED_COUNT</th>\n",
       "      <th>BK_DEATH_COUNT</th>\n",
       "      <th>BX_CASE_COUNT</th>\n",
       "      <th>BX_HOSPITALIZED_COUNT</th>\n",
       "      <th>BX_DEATH_COUNT</th>\n",
       "      <th>MN_CASE_COUNT</th>\n",
       "      <th>MN_HOSPITALIZED_COUNT</th>\n",
       "      <th>MN_DEATH_COUNT</th>\n",
       "      <th>QN_CASE_COUNT</th>\n",
       "      <th>QN_HOSPITALIZED_COUNT</th>\n",
       "      <th>QN_DEATH_COUNT</th>\n",
       "      <th>SI_CASE_COUNT</th>\n",
       "      <th>SI_HOSPITALIZED_COUNT</th>\n",
       "      <th>SI_DEATH_COUNT</th>\n",
       "    </tr>\n",
       "  </thead>\n",
       "  <tbody>\n",
       "    <tr>\n",
       "      <th>174</th>\n",
       "      <td>08/21/2020</td>\n",
       "      <td>61</td>\n",
       "      <td>7</td>\n",
       "      <td>0</td>\n",
       "      <td>41</td>\n",
       "      <td>14</td>\n",
       "      <td>0</td>\n",
       "      <td>40</td>\n",
       "      <td>1</td>\n",
       "      <td>0</td>\n",
       "      <td>48</td>\n",
       "      <td>5</td>\n",
       "      <td>2</td>\n",
       "      <td>10</td>\n",
       "      <td>0</td>\n",
       "      <td>0</td>\n",
       "    </tr>\n",
       "    <tr>\n",
       "      <th>175</th>\n",
       "      <td>08/22/2020</td>\n",
       "      <td>19</td>\n",
       "      <td>0</td>\n",
       "      <td>1</td>\n",
       "      <td>16</td>\n",
       "      <td>4</td>\n",
       "      <td>1</td>\n",
       "      <td>17</td>\n",
       "      <td>5</td>\n",
       "      <td>1</td>\n",
       "      <td>14</td>\n",
       "      <td>3</td>\n",
       "      <td>1</td>\n",
       "      <td>4</td>\n",
       "      <td>0</td>\n",
       "      <td>1</td>\n",
       "    </tr>\n",
       "    <tr>\n",
       "      <th>176</th>\n",
       "      <td>08/23/2020</td>\n",
       "      <td>24</td>\n",
       "      <td>5</td>\n",
       "      <td>0</td>\n",
       "      <td>12</td>\n",
       "      <td>2</td>\n",
       "      <td>3</td>\n",
       "      <td>4</td>\n",
       "      <td>0</td>\n",
       "      <td>0</td>\n",
       "      <td>19</td>\n",
       "      <td>4</td>\n",
       "      <td>0</td>\n",
       "      <td>3</td>\n",
       "      <td>0</td>\n",
       "      <td>0</td>\n",
       "    </tr>\n",
       "    <tr>\n",
       "      <th>177</th>\n",
       "      <td>08/24/2020</td>\n",
       "      <td>23</td>\n",
       "      <td>0</td>\n",
       "      <td>1</td>\n",
       "      <td>16</td>\n",
       "      <td>1</td>\n",
       "      <td>1</td>\n",
       "      <td>20</td>\n",
       "      <td>0</td>\n",
       "      <td>0</td>\n",
       "      <td>14</td>\n",
       "      <td>0</td>\n",
       "      <td>0</td>\n",
       "      <td>4</td>\n",
       "      <td>0</td>\n",
       "      <td>0</td>\n",
       "    </tr>\n",
       "    <tr>\n",
       "      <th>178</th>\n",
       "      <td>08/25/2020</td>\n",
       "      <td>4</td>\n",
       "      <td>0</td>\n",
       "      <td>0</td>\n",
       "      <td>2</td>\n",
       "      <td>0</td>\n",
       "      <td>0</td>\n",
       "      <td>1</td>\n",
       "      <td>0</td>\n",
       "      <td>0</td>\n",
       "      <td>1</td>\n",
       "      <td>0</td>\n",
       "      <td>0</td>\n",
       "      <td>0</td>\n",
       "      <td>0</td>\n",
       "      <td>0</td>\n",
       "    </tr>\n",
       "  </tbody>\n",
       "</table>\n",
       "</div>"
      ],
      "text/plain": [
       "    DATE_OF_INTEREST  BK_CASE_COUNT  BK_HOSPITALIZED_COUNT  BK_DEATH_COUNT  \\\n",
       "174       08/21/2020             61                      7               0   \n",
       "175       08/22/2020             19                      0               1   \n",
       "176       08/23/2020             24                      5               0   \n",
       "177       08/24/2020             23                      0               1   \n",
       "178       08/25/2020              4                      0               0   \n",
       "\n",
       "     BX_CASE_COUNT  BX_HOSPITALIZED_COUNT  BX_DEATH_COUNT  MN_CASE_COUNT  \\\n",
       "174             41                     14               0             40   \n",
       "175             16                      4               1             17   \n",
       "176             12                      2               3              4   \n",
       "177             16                      1               1             20   \n",
       "178              2                      0               0              1   \n",
       "\n",
       "     MN_HOSPITALIZED_COUNT  MN_DEATH_COUNT  QN_CASE_COUNT  \\\n",
       "174                      1               0             48   \n",
       "175                      5               1             14   \n",
       "176                      0               0             19   \n",
       "177                      0               0             14   \n",
       "178                      0               0              1   \n",
       "\n",
       "     QN_HOSPITALIZED_COUNT  QN_DEATH_COUNT  SI_CASE_COUNT  \\\n",
       "174                      5               2             10   \n",
       "175                      3               1              4   \n",
       "176                      4               0              3   \n",
       "177                      0               0              4   \n",
       "178                      0               0              0   \n",
       "\n",
       "     SI_HOSPITALIZED_COUNT  SI_DEATH_COUNT  \n",
       "174                      0               0  \n",
       "175                      0               1  \n",
       "176                      0               0  \n",
       "177                      0               0  \n",
       "178                      0               0  "
      ]
     },
     "execution_count": 21,
     "metadata": {},
     "output_type": "execute_result"
    }
   ],
   "source": [
    "chd_boro.tail()"
   ]
  },
  {
   "cell_type": "code",
   "execution_count": 20,
   "metadata": {},
   "outputs": [
    {
     "data": {
      "text/plain": [
       "228902"
      ]
     },
     "execution_count": 20,
     "metadata": {},
     "output_type": "execute_result"
    }
   ],
   "source": [
    "chd_boro['BK_CASE_COUNT'].sum() + chd_boro['BX_CASE_COUNT'].sum() + chd_boro['MN_CASE_COUNT'].sum() + chd_boro['QN_CASE_COUNT'].sum() + chd_boro['SI_CASE_COUNT'].sum()"
   ]
  },
  {
   "cell_type": "code",
   "execution_count": null,
   "metadata": {},
   "outputs": [],
   "source": [
    "chd_boro['BK_CASE_COUNT'].sum() + chd_boro['BX_CASE_COUNT'].sum() + chd_boro['MN_CASE_COUNT'].sum() + chd_boro['QN_CASE_COUNT'].sum() + chd_boro['SI_CASE_COUNT'].sum()"
   ]
  },
  {
   "cell_type": "code",
   "execution_count": null,
   "metadata": {},
   "outputs": [],
   "source": []
  }
 ],
 "metadata": {
  "kernelspec": {
   "display_name": "Python 3",
   "language": "python",
   "name": "python3"
  },
  "language_info": {
   "codemirror_mode": {
    "name": "ipython",
    "version": 3
   },
   "file_extension": ".py",
   "mimetype": "text/x-python",
   "name": "python",
   "nbconvert_exporter": "python",
   "pygments_lexer": "ipython3",
   "version": "3.8.3"
  }
 },
 "nbformat": 4,
 "nbformat_minor": 4
}
